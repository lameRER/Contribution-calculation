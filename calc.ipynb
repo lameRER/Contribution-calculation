{
 "cells": [
  {
   "attachments": {},
   "cell_type": "markdown",
   "metadata": {},
   "source": [
    "# База \n",
    "## 2023 год\n",
    "\n",
    "12 мес\n",
    "\n",
    "фикс ПФР 36723\n",
    "\n",
    "фикс ФОМС 9119\n",
    "\n",
    "(ФР/12) * М + (ФР/12 / Кн) * Дн\n",
    "\n",
    "\n",
    "* pfr - фикса\n",
    "* foms - фикса\n",
    "* m - кол-во полных мес. работы в году\n",
    "* kn - кол-во дней в мес начала деятельности (или конца работы) - если время работы ИП в нескольких годах\n",
    "* dn - кол-во отработаных дней в неполном мес - если время работы ИП в нескольких годах\n",
    "\n",
    "\n",
    "\n"
   ]
  },
  {
   "cell_type": "code",
   "execution_count": 1,
   "metadata": {},
   "outputs": [],
   "source": [
    "start_date = '01.01.23'\n",
    "end_date = '16.11.23'"
   ]
  },
  {
   "cell_type": "code",
   "execution_count": 2,
   "metadata": {},
   "outputs": [
    {
     "name": "stdout",
     "output_type": "stream",
     "text": [
      "ФОМС: 7991.38\n",
      "ПФР: 32181.98\n",
      "Итого: 40173.36\n"
     ]
    }
   ],
   "source": [
    "\n",
    "from  datetime import datetime, timedelta, date\n",
    "import calendar\n",
    "\n",
    "get_month = lambda d: d.month\n",
    "\n",
    "get_day = lambda d: d.day\n",
    "\n",
    "def calculation(p, start_date, end_date, dn, kn):\n",
    "    if (get_month(end_date) == 12 and get_day(end_date) == 31) or (get_day(start_date) == 1 and get_month(start_date) == 1):\n",
    "        return round(((p/12)*m+(p/12/kn)*dn), 2)\n",
    "    else:\n",
    "        return round(((p/12)*(m-1)+(p/12/kn)*dn.get('dnn') + (p/12/kn)*dn.get('dnk')), 2)\n",
    "\n",
    "\n",
    "pfr = 36723\n",
    "foms = 9119\n",
    "tax_type = {'ФОМС': foms, 'ПФР': pfr}\n",
    "\n",
    "dates = {'start_date': start_date, 'end_date': end_date}\n",
    "dates = {key: (lambda d: datetime.strptime(d, '%d.%m.%y'))(values) for key, values in dates.items()}\n",
    "\n",
    "kn = {'knn': dates.get('start_date'), \"knk\": dates.get('end_date')}\n",
    "m = (lambda s, e: get_month(e) - get_month(s))(dates.get('start_date'), dates.get('end_date'))\n",
    "kn = dict(map(lambda k: (k[0], calendar.monthrange(k[1].year, k[1].month)[1]), kn.items()))\n",
    "dnn = kn.get('knn') - (get_day(dates.get('start_date')) - 1)\n",
    "dnk = get_day(dates.get('end_date'))\n",
    "dn = {'dnn': dnn, 'dnk': dnk}\n",
    "\n",
    "\n",
    "if (get_month(dates.get('end_date')) == 12 and get_day(dates.get('end_date')) == 31):\n",
    "    result = {key: calculation(values, dates.get('start_date'), dates.get('end_date'), dn.get('dnn'), kn.get('knn')) for key, values in tax_type.items()}\n",
    "elif get_day(dates.get('start_date')) == 1 and get_month(dates.get('start_date')) == 1:\n",
    "    result = {key: calculation(values, dates.get('start_date'), dates.get('end_date'), dn.get('dnk'), kn.get('knn')) for key, values in tax_type.items()}\n",
    "else: \n",
    "    result = {key: calculation(values, start_date, end_date, dn, kn.get('knk')) for key, values in tax_type.items()}\n",
    "\n",
    "\n",
    "sum = result['ПФР'] + result['ФОМС']\n",
    "for key, values in result.items():\n",
    "    print(f'{key}: {values}')\n",
    "print(f'Итого: {round(sum, 2)}')"
   ]
  }
 ],
 "metadata": {
  "kernelspec": {
   "display_name": "Python 3",
   "language": "python",
   "name": "python3"
  },
  "language_info": {
   "codemirror_mode": {
    "name": "ipython",
    "version": 3
   },
   "file_extension": ".py",
   "mimetype": "text/x-python",
   "name": "python",
   "nbconvert_exporter": "python",
   "pygments_lexer": "ipython3",
   "version": "3.10.8"
  },
  "orig_nbformat": 4,
  "vscode": {
   "interpreter": {
    "hash": "69f01a9534b2aaf3cab12b89d6c629711c10b558a5bcf166aed71a21f4151455"
   }
  }
 },
 "nbformat": 4,
 "nbformat_minor": 2
}
