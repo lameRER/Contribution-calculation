{
 "cells": [
  {
   "attachments": {},
   "cell_type": "markdown",
   "metadata": {},
   "source": [
    "# База \n",
    "## 2023 год\n",
    "\n",
    "12 мес\n",
    "\n",
    "фикс ПФР 36723\n",
    "\n",
    "фикс ФОМС 9119\n",
    "\n",
    "(ФР/12) * М + (ФР/12 / Кн) * Дн\n",
    "\n",
    "\n",
    "* pfr - фикса\n",
    "* foms - фикса\n",
    "* m - кол-во полных мес. работы в году\n",
    "* kn - кол-во дней в мес начала деятельности (или конца работы) - если время работы ИП в нескольких годах\n",
    "* dn - кол-во отработаных дней в неполном мес - если время работы ИП в нескольких годах\n",
    "\n",
    "\n",
    "\n"
   ]
  },
  {
   "cell_type": "code",
   "execution_count": null,
   "metadata": {},
   "outputs": [],
   "source": [
    "from  datetime import datetime, timedelta, date\n",
    "import calendar\n",
    "\n",
    "start_date = '01.01.23'\n",
    "end_date = '16.11.23'\n"
   ]
  },
  {
   "cell_type": "code",
   "execution_count": null,
   "metadata": {},
   "outputs": [],
   "source": [
    "\n",
    "def get_month(date):\n",
    "    return date.month\n",
    "\n",
    "def get_day(date):\n",
    "    return date.day\n",
    "\n",
    "def get_sub_day(start_date, end_date):\n",
    "    return get_month(end_date) - get_month(start_date)\n",
    "\n",
    "\n",
    "def set_format_date(date):\n",
    "    return datetime.strptime(date, '%d.%m.%y')\n",
    "\n",
    "def get_count_day_to_month(date):\n",
    "    return calendar.monthrange(date.year, date.month)[1]\n",
    "\n",
    "def calculation(p, start_date, end_date, days):\n",
    "    if (get_month(end_date) == 12 and get_day(end_date) == 31) or (get_day(start_date) == 1 and get_month(start_date) == 1):\n",
    "        return round(((p/12)*m+(p/12/knn)*days), 2)\n",
    "    else:\n",
    "        return round(((p/12)*(m-1)+(p/12/knn)*days[0] + (p/12/knk)*days[1]), 2)\n",
    "\n",
    "\n",
    "start_date = set_format_date(start_date)\n",
    "end_date = set_format_date(end_date)\n",
    "\n",
    "pfr = 36723\n",
    "foms = 9119\n",
    "\n",
    "tax_type = {'ФОМС': foms, 'ПФР': pfr}\n",
    "\n",
    "m = get_sub_day(start_date, end_date)\n",
    "knn = get_count_day_to_month(start_date)\n",
    "knk = get_count_day_to_month(end_date)\n",
    "dnn = knn - (get_day(start_date) - 1)\n",
    "dnk = get_day(end_date)\n",
    "\n",
    "\n",
    "\n",
    "if (get_month(end_date) == 12 and get_day(end_date) == 31):\n",
    "    result = {key: calculation(values, start_date, end_date, dnn) for key, values in tax_type.items()}\n",
    "elif get_day(start_date) == 1 and get_month(start_date) == 1:\n",
    "    result = {key: calculation(values, start_date, end_date, dnk) for key, values in tax_type.items()}\n",
    "else: \n",
    "    result = {key: calculation(values, start_date, end_date, [dnn, dnk]) for key, values in tax_type.items()}\n",
    "\n",
    "\n",
    "sum = result['ПФР'] + result['ФОМС']\n",
    "for key, values in result.items():\n",
    "    print(f'{key}: {values}')\n",
    "print(f'Итого: {round(sum, 2)}')"
   ]
  }
 ],
 "metadata": {
  "kernelspec": {
   "display_name": "Python 3",
   "language": "python",
   "name": "python3"
  },
  "language_info": {
   "codemirror_mode": {
    "name": "ipython",
    "version": 3
   },
   "file_extension": ".py",
   "mimetype": "text/x-python",
   "name": "python",
   "nbconvert_exporter": "python",
   "pygments_lexer": "ipython3",
   "version": "3.10.8"
  },
  "orig_nbformat": 4,
  "vscode": {
   "interpreter": {
    "hash": "69f01a9534b2aaf3cab12b89d6c629711c10b558a5bcf166aed71a21f4151455"
   }
  }
 },
 "nbformat": 4,
 "nbformat_minor": 2
}
