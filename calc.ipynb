{
 "cells": [
  {
   "attachments": {},
   "cell_type": "markdown",
   "metadata": {},
   "source": [
    "# База \n",
    "## 2023 год\n",
    "\n",
    "12 мес\n",
    "\n",
    "фикс ПФР 36723\n",
    "\n",
    "фикс ФОМС 9119\n",
    "\n",
    "(ФР/12) * М + (ФР/12 / Кн) * Дн\n",
    "\n",
    "\n",
    "* pfr - фикса\n",
    "* foms - фикса\n",
    "* m - кол-во полных мес. работы в году\n",
    "* kn - кол-во дней в мес начала деятельности (или конца работы) - если время работы ИП в нескольких годах\n",
    "* dn - кол-во отработаных дней в неполном мес - если время работы ИП в нескольких годах\n",
    "\n",
    "\n",
    "\n"
   ]
  },
  {
   "cell_type": "code",
   "execution_count": 5,
   "metadata": {},
   "outputs": [],
   "source": [
    "from  datetime import datetime, timedelta, date\n",
    "import calendar\n",
    "\n",
    "# start = '2023-05-13'\n",
    "start = '2023-05-13'\n",
    "end = '2023-11-16'\n"
   ]
  },
  {
   "cell_type": "code",
   "execution_count": 6,
   "metadata": {},
   "outputs": [
    {
     "ename": "ValueError",
     "evalue": "unconverted data remains: 23",
     "output_type": "error",
     "traceback": [
      "\u001b[1;31m---------------------------------------------------------------------------\u001b[0m",
      "\u001b[1;31mValueError\u001b[0m                                Traceback (most recent call last)",
      "Cell \u001b[1;32mIn[6], line 1\u001b[0m\n\u001b[1;32m----> 1\u001b[0m start \u001b[39m=\u001b[39m datetime\u001b[39m.\u001b[39;49mstrptime(start, \u001b[39m'\u001b[39;49m\u001b[39m%d\u001b[39;49;00m\u001b[39m.\u001b[39;49m\u001b[39m%\u001b[39;49m\u001b[39mm.\u001b[39;49m\u001b[39m%\u001b[39;49m\u001b[39my\u001b[39;49m\u001b[39m'\u001b[39;49m)\n\u001b[0;32m      2\u001b[0m end \u001b[39m=\u001b[39m datetime\u001b[39m.\u001b[39mstrptime(end, \u001b[39m'\u001b[39m\u001b[39m%d\u001b[39;00m\u001b[39m.\u001b[39m\u001b[39m%\u001b[39m\u001b[39mm.\u001b[39m\u001b[39m%\u001b[39m\u001b[39my\u001b[39m\u001b[39m'\u001b[39m)\n\u001b[0;32m      3\u001b[0m \u001b[39m# start = date.fromisoformat(start)\u001b[39;00m\n\u001b[0;32m      4\u001b[0m \u001b[39m# end = date.fromisoformat(end)\u001b[39;00m\n",
      "File \u001b[1;32mc:\\Users\\alyustik\\AppData\\Local\\Programs\\Python\\Python310\\lib\\_strptime.py:568\u001b[0m, in \u001b[0;36m_strptime_datetime\u001b[1;34m(cls, data_string, format)\u001b[0m\n\u001b[0;32m    565\u001b[0m \u001b[39mdef\u001b[39;00m \u001b[39m_strptime_datetime\u001b[39m(\u001b[39mcls\u001b[39m, data_string, \u001b[39mformat\u001b[39m\u001b[39m=\u001b[39m\u001b[39m\"\u001b[39m\u001b[39m%a\u001b[39;00m\u001b[39m \u001b[39m\u001b[39m%\u001b[39m\u001b[39mb \u001b[39m\u001b[39m%d\u001b[39;00m\u001b[39m \u001b[39m\u001b[39m%\u001b[39m\u001b[39mH:\u001b[39m\u001b[39m%\u001b[39m\u001b[39mM:\u001b[39m\u001b[39m%\u001b[39m\u001b[39mS \u001b[39m\u001b[39m%\u001b[39m\u001b[39mY\u001b[39m\u001b[39m\"\u001b[39m):\n\u001b[0;32m    566\u001b[0m \u001b[39m    \u001b[39m\u001b[39m\"\"\"Return a class cls instance based on the input string and the\u001b[39;00m\n\u001b[0;32m    567\u001b[0m \u001b[39m    format string.\"\"\"\u001b[39;00m\n\u001b[1;32m--> 568\u001b[0m     tt, fraction, gmtoff_fraction \u001b[39m=\u001b[39m _strptime(data_string, \u001b[39mformat\u001b[39;49m)\n\u001b[0;32m    569\u001b[0m     tzname, gmtoff \u001b[39m=\u001b[39m tt[\u001b[39m-\u001b[39m\u001b[39m2\u001b[39m:]\n\u001b[0;32m    570\u001b[0m     args \u001b[39m=\u001b[39m tt[:\u001b[39m6\u001b[39m] \u001b[39m+\u001b[39m (fraction,)\n",
      "File \u001b[1;32mc:\\Users\\alyustik\\AppData\\Local\\Programs\\Python\\Python310\\lib\\_strptime.py:352\u001b[0m, in \u001b[0;36m_strptime\u001b[1;34m(data_string, format)\u001b[0m\n\u001b[0;32m    349\u001b[0m     \u001b[39mraise\u001b[39;00m \u001b[39mValueError\u001b[39;00m(\u001b[39m\"\u001b[39m\u001b[39mtime data \u001b[39m\u001b[39m%r\u001b[39;00m\u001b[39m does not match format \u001b[39m\u001b[39m%r\u001b[39;00m\u001b[39m\"\u001b[39m \u001b[39m%\u001b[39m\n\u001b[0;32m    350\u001b[0m                      (data_string, \u001b[39mformat\u001b[39m))\n\u001b[0;32m    351\u001b[0m \u001b[39mif\u001b[39;00m \u001b[39mlen\u001b[39m(data_string) \u001b[39m!=\u001b[39m found\u001b[39m.\u001b[39mend():\n\u001b[1;32m--> 352\u001b[0m     \u001b[39mraise\u001b[39;00m \u001b[39mValueError\u001b[39;00m(\u001b[39m\"\u001b[39m\u001b[39munconverted data remains: \u001b[39m\u001b[39m%s\u001b[39;00m\u001b[39m\"\u001b[39m \u001b[39m%\u001b[39m\n\u001b[0;32m    353\u001b[0m                       data_string[found\u001b[39m.\u001b[39mend():])\n\u001b[0;32m    355\u001b[0m iso_year \u001b[39m=\u001b[39m year \u001b[39m=\u001b[39m \u001b[39mNone\u001b[39;00m\n\u001b[0;32m    356\u001b[0m month \u001b[39m=\u001b[39m day \u001b[39m=\u001b[39m \u001b[39m1\u001b[39m\n",
      "\u001b[1;31mValueError\u001b[0m: unconverted data remains: 23"
     ]
    }
   ],
   "source": [
    "\n",
    "start = date.fromisoformat(start)\n",
    "end = date.fromisoformat(end)\n",
    "\n",
    "pfr = 36723\n",
    "foms = 9119\n",
    "\n",
    "\n",
    "m = end.month - (start.month) #8\n",
    "knn = calendar.monthrange(start.year, start.month)[1]\n",
    "knk = calendar.monthrange(end.year, end.month)[1]\n",
    "dnn = knn - (start.day - 1) #3\n",
    "dnk = end.day\n",
    "\n",
    "def form(p, start, end):\n",
    "    if (end.month == 12 and end.day == 31):\n",
    "        return round(((p/12)*m+(p/12/knn)*dnn), 2)\n",
    "    elif (start.day == 1 and start.month == 1):\n",
    "        return round(((p/12)*m+(p/12/knk)*dnk), 2)\n",
    "    else:\n",
    "        return round(((p/12)*(m-1)+(p/12/knn)*dnn + (p/12/knk)*dnk), 2)\n",
    "\n",
    "\n",
    "itog = form(foms, start, end) + form(pfr, start, end)\n",
    "print(f'ФОМС: {form(foms, start, end)}')\n",
    "print(f'ПФР: {form(pfr, start, end)}')\n",
    "print(f'Итого: {round(itog, 2)}')"
   ]
  }
 ],
 "metadata": {
  "kernelspec": {
   "display_name": "Python 3",
   "language": "python",
   "name": "python3"
  },
  "language_info": {
   "codemirror_mode": {
    "name": "ipython",
    "version": 3
   },
   "file_extension": ".py",
   "mimetype": "text/x-python",
   "name": "python",
   "nbconvert_exporter": "python",
   "pygments_lexer": "ipython3",
   "version": "3.10.8"
  },
  "orig_nbformat": 4,
  "vscode": {
   "interpreter": {
    "hash": "69f01a9534b2aaf3cab12b89d6c629711c10b558a5bcf166aed71a21f4151455"
   }
  }
 },
 "nbformat": 4,
 "nbformat_minor": 2
}
